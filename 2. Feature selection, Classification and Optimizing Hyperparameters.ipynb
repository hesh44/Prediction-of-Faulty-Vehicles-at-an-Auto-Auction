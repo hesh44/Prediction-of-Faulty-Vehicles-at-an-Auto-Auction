{
 "cells": [
  {
   "cell_type": "markdown",
   "metadata": {},
   "source": [
    "# Klasifikacija"
   ]
  },
  {
   "cell_type": "markdown",
   "metadata": {},
   "source": [
    "Algoritmi koji će se koristiti su algoritmi nadgledanog učenja, preciznije, algoritmi klasifikacije. Cilj je napraviti model koji će uspešno predviđati koji automobili su kick a koji nisu.\n",
    "\n",
    "Kao metod evaluacije koristićemo unakrsnu validaciju koja je kompleksniji ali i verodostojniji vid ocenjivanja kvaliteta modela od *trening-test* podele. Unakrsna validacija prolazi kroz delove skupa podataka i svaki od njih jedanput uzima za test dok ostale koristi za trening. Za finalnu ocenu se uzima prosek ocena svih delova. Kod *trening-test* podele zbog nasumičnosti podele podataka možemo dobiti dobre ocene modela iako to možda nije slučaj.\n",
    "\n",
    "Algoritmi klasifikacije koje ćemo koristiti:\n",
    " - Stablo odlučivanja\n",
    " - Naivni Bajes\n",
    " - K najbližih suseda\n",
    " - Logistička regresija\n",
    " - Ansambl algoritmi (Glasanje, Stacking i Random forest)\n",
    "\n",
    "Za evaluacionu metriku ćemo uzeti ROC krivu, tj površinom ispod nje (AUC). AUC je korisna evaluciona metrika jer uzima u obzir sve granice odlučivanja i daje nam najbolju.\n",
    "Od dve vrste greške skuplje će nas koštati ona kada auto koji jeste kick klasifikujemo kao da nije. Ali pošto ne znamo cenu grešaka odnosno dobit pogodaka, ne možemo da koristimo *total_cost* meru. \n",
    "\n"
   ]
  },
  {
   "cell_type": "code",
   "execution_count": 2,
   "metadata": {},
   "outputs": [],
   "source": [
    "import numpy as np\n",
    "import pandas as pd\n",
    "import warnings\n",
    "warnings.filterwarnings(\"ignore\")\n",
    "import matplotlib.pyplot as plt\n",
    "from sklearn.linear_model import LogisticRegression\n",
    "from sklearn.naive_bayes import GaussianNB\n",
    "from sklearn.tree import DecisionTreeClassifier\n",
    "from sklearn.neighbors import KNeighborsClassifier\n",
    "from sklearn.ensemble import VotingClassifier, RandomForestClassifier\n",
    "from sklearn.model_selection import cross_val_score, GridSearchCV, validation_curve\n",
    "from mlxtend.classifier import StackingClassifier\n",
    "from sklearn.metrics import confusion_matrix\n",
    "from sklearn.feature_selection import VarianceThreshold, chi2, mutual_info_classif, SelectKBest, RFECV\n",
    "%matplotlib inline"
   ]
  },
  {
   "cell_type": "markdown",
   "metadata": {},
   "source": [
    "Učitavamo pripremljene podatke."
   ]
  },
  {
   "cell_type": "code",
   "execution_count": 3,
   "metadata": {},
   "outputs": [],
   "source": [
    "df = pd.read_csv('data/pripremljeniPodaci.csv')"
   ]
  },
  {
   "cell_type": "code",
   "execution_count": 4,
   "metadata": {},
   "outputs": [],
   "source": [
    "X = df.iloc[:,:-1]\n",
    "y = df.iloc[:,-1]"
   ]
  },
  {
   "cell_type": "markdown",
   "metadata": {},
   "source": [
    "## Selekcija atributa"
   ]
  },
  {
   "cell_type": "markdown",
   "metadata": {},
   "source": [
    "Neki atributi su više značajni od drugih i iz tog razloga ćemo izvršiti selekciju atributa i naš skup podataka svesti samo na najneophodnije. Postoje tri vrste metoda za odabir atributa za modele. Obradićemo filter metode i metodu obavijanja."
   ]
  },
  {
   "cell_type": "markdown",
   "metadata": {},
   "source": [
    "### Filter Metoda"
   ]
  },
  {
   "cell_type": "markdown",
   "metadata": {},
   "source": [
    "Granična varijansa (VarianceThreshold)"
   ]
  },
  {
   "cell_type": "code",
   "execution_count": 5,
   "metadata": {},
   "outputs": [],
   "source": [
    "selection = VarianceThreshold(0.05)\n",
    "selection.fit(X)\n",
    "X_filter_variance_thresh = X.loc[:, selection.get_support()]\n",
    "#X_filter_variance_thresh"
   ]
  },
  {
   "cell_type": "markdown",
   "metadata": {},
   "source": [
    "Zajednička informacije (mutual_info_classif)"
   ]
  },
  {
   "cell_type": "code",
   "execution_count": 7,
   "metadata": {},
   "outputs": [
    {
     "data": {
      "text/plain": [
       "Index(['VehYear', 'WheelTypeID', 'MMRAcquisitionAuctionCleanPrice',\n",
       "       'MMRAcquisitionRetailAveragePrice', 'MMRCurrentRetailAveragePrice',\n",
       "       'MMRCurrentRetailCleanPrice', 'VNZIP1', 'Make_CHEVROLET', 'Make_KIA',\n",
       "       'Model_CONTINENTAL', 'Model_ELEMENT', 'Model_EXCURSION', 'Model_FUSION',\n",
       "       'Model_I-290', 'Model_MARINER', 'Model_MAZDA6', 'Model_MIATA',\n",
       "       'Model_OUTLANDER', 'Model_PROTEGE', 'Model_RAIDER', 'Model_SEBRING',\n",
       "       'Model_TACOMA', 'Model_TRAILBLAZER', 'Trim_GLE', 'Trim_GLS', 'Trim_Pre',\n",
       "       'Trim_RT', 'Trim_Z71', 'Trim_ZX4', 'Trim_ZX5', 'Size_VAN',\n",
       "       'CarBodyStyle_HATCHBACK', 'Perc_Diff_RetAVG', 'Perc_Diff_AuctAVG',\n",
       "       'Perc_Diff_RetCLEAN', 'Perc_Diff_AuctCLEAN', 'Perc_Diff_RetAuctCLEAN',\n",
       "       'Perc_Diff_PAST_RetAuctAVG', 'Perc_Diff_PAST_RetAuct_CLEAN',\n",
       "       'Perc_Diff_PRESENT_RetAuct_CLEAN'],\n",
       "      dtype='object')"
      ]
     },
     "execution_count": 7,
     "metadata": {},
     "output_type": "execute_result"
    }
   ],
   "source": [
    "selection = SelectKBest(k=40, score_func=mutual_info_classif) \n",
    "selection.fit(X, y)\n",
    "X_filter_mutual_info = X.loc[:, selection.get_support()]\n",
    "X_filter_mutual_info.columns"
   ]
  },
  {
   "cell_type": "markdown",
   "metadata": {},
   "source": [
    "Sa graničnom varijansom 0,05 filter metode smanjili smo broj atributa sa 388 na 42, dok smo sa metodom *zajedničkih informacija* sveli na 40."
   ]
  },
  {
   "cell_type": "markdown",
   "metadata": {},
   "source": [
    "### Obavijajuća metoda "
   ]
  },
  {
   "cell_type": "code",
   "execution_count": 6,
   "metadata": {},
   "outputs": [],
   "source": [
    "model = LogisticRegression(solver='liblinear')\n",
    "model_as = RFECV(estimator=model, \n",
    "                 min_features_to_select=40, cv=10, step=10, \n",
    "                 scoring='roc_auc')\n",
    "model_as.fit(X, y)\n",
    "X_rfecv = X.loc[:, model_as.get_support()]"
   ]
  },
  {
   "cell_type": "markdown",
   "metadata": {},
   "source": [
    "Obavijajućom metodom skup podataka smo sveli na 40 atributa."
   ]
  },
  {
   "cell_type": "markdown",
   "metadata": {},
   "source": [
    "## Klasifikacija"
   ]
  },
  {
   "cell_type": "markdown",
   "metadata": {},
   "source": [
    "Izlistavamo algoritme i pravimo novi dataframe."
   ]
  },
  {
   "cell_type": "code",
   "execution_count": 7,
   "metadata": {},
   "outputs": [
    {
     "data": {
      "text/html": [
       "<div>\n",
       "<style scoped>\n",
       "    .dataframe tbody tr th:only-of-type {\n",
       "        vertical-align: middle;\n",
       "    }\n",
       "\n",
       "    .dataframe tbody tr th {\n",
       "        vertical-align: top;\n",
       "    }\n",
       "\n",
       "    .dataframe thead th {\n",
       "        text-align: right;\n",
       "    }\n",
       "</style>\n",
       "<table border=\"1\" class=\"dataframe\">\n",
       "  <thead>\n",
       "    <tr style=\"text-align: right;\">\n",
       "      <th></th>\n",
       "    </tr>\n",
       "    <tr>\n",
       "      <th>Algoritam</th>\n",
       "    </tr>\n",
       "  </thead>\n",
       "  <tbody>\n",
       "    <tr>\n",
       "      <th>Stablo odlučivanja</th>\n",
       "    </tr>\n",
       "    <tr>\n",
       "      <th>Naivni Bajes</th>\n",
       "    </tr>\n",
       "    <tr>\n",
       "      <th>KNN</th>\n",
       "    </tr>\n",
       "    <tr>\n",
       "      <th>Log regresija</th>\n",
       "    </tr>\n",
       "    <tr>\n",
       "      <th>Glasanje meko</th>\n",
       "    </tr>\n",
       "    <tr>\n",
       "      <th>Stacking lr</th>\n",
       "    </tr>\n",
       "    <tr>\n",
       "      <th>Random forest</th>\n",
       "    </tr>\n",
       "  </tbody>\n",
       "</table>\n",
       "</div>"
      ],
      "text/plain": [
       "Empty DataFrame\n",
       "Columns: []\n",
       "Index: [Stablo odlučivanja, Naivni Bajes, KNN, Log regresija, Glasanje meko, Stacking lr, Random forest]"
      ]
     },
     "execution_count": 7,
     "metadata": {},
     "output_type": "execute_result"
    }
   ],
   "source": [
    "alg = ['Stablo odlučivanja', 'Naivni Bajes', 'KNN', 'Log regresija', \n",
    "       'Glasanje meko', 'Stacking lr', 'Random forest']\n",
    "# pravimo df\n",
    "df_rezultati = pd.DataFrame(alg)\n",
    "# postavimo Algoritam za index\n",
    "df_rezultati.columns = ['Algoritam']\n",
    "df_rezultati = df_rezultati.set_index('Algoritam')\n",
    "df_rezultati"
   ]
  },
  {
   "cell_type": "code",
   "execution_count": 8,
   "metadata": {
    "scrolled": true
   },
   "outputs": [],
   "source": [
    "model_dt = DecisionTreeClassifier()\n",
    "model_nb = GaussianNB()\n",
    "model_knn = KNeighborsClassifier()\n",
    "model_lr = LogisticRegression()\n",
    "\n",
    "model_voting_s = VotingClassifier(voting='soft', \n",
    "                                  estimators=[('dt', model_dt),\n",
    "                                              ('nb',model_nb),\n",
    "                                              ('knn',model_knn),\n",
    "                                              ('lr', model_lr)])\n",
    "model_stacking_meta_lr = StackingClassifier(classifiers=[model_dt, model_nb, model_knn, model_lr], \n",
    "                                            meta_classifier = model_lr)\n",
    "model_rf = RandomForestClassifier(n_estimators=100)\n",
    "\n",
    "modeli = [model_dt, model_nb, model_knn, model_lr, \n",
    "          model_voting_s, model_stacking_meta_lr, model_rf]"
   ]
  },
  {
   "cell_type": "markdown",
   "metadata": {},
   "source": [
    "Radimo unakrsnu validaciju za nova tri skupa podataka."
   ]
  },
  {
   "cell_type": "code",
   "execution_count": 9,
   "metadata": {},
   "outputs": [
    {
     "data": {
      "text/html": [
       "<div>\n",
       "<style scoped>\n",
       "    .dataframe tbody tr th:only-of-type {\n",
       "        vertical-align: middle;\n",
       "    }\n",
       "\n",
       "    .dataframe tbody tr th {\n",
       "        vertical-align: top;\n",
       "    }\n",
       "\n",
       "    .dataframe thead th {\n",
       "        text-align: right;\n",
       "    }\n",
       "</style>\n",
       "<table border=\"1\" class=\"dataframe\">\n",
       "  <thead>\n",
       "    <tr style=\"text-align: right;\">\n",
       "      <th></th>\n",
       "      <th>X_filter_variance_thresh</th>\n",
       "    </tr>\n",
       "    <tr>\n",
       "      <th>Algoritam</th>\n",
       "      <th></th>\n",
       "    </tr>\n",
       "  </thead>\n",
       "  <tbody>\n",
       "    <tr>\n",
       "      <th>Stablo odlučivanja</th>\n",
       "      <td>53.72</td>\n",
       "    </tr>\n",
       "    <tr>\n",
       "      <th>Naivni Bajes</th>\n",
       "      <td>62.06</td>\n",
       "    </tr>\n",
       "    <tr>\n",
       "      <th>KNN</th>\n",
       "      <td>52.17</td>\n",
       "    </tr>\n",
       "    <tr>\n",
       "      <th>Log regresija</th>\n",
       "      <td>61.39</td>\n",
       "    </tr>\n",
       "    <tr>\n",
       "      <th>Glasanje meko</th>\n",
       "      <td>60.86</td>\n",
       "    </tr>\n",
       "    <tr>\n",
       "      <th>Stacking lr</th>\n",
       "      <td>57.02</td>\n",
       "    </tr>\n",
       "    <tr>\n",
       "      <th>Random forest</th>\n",
       "      <td>64.62</td>\n",
       "    </tr>\n",
       "  </tbody>\n",
       "</table>\n",
       "</div>"
      ],
      "text/plain": [
       "                    X_filter_variance_thresh\n",
       "Algoritam                                   \n",
       "Stablo odlučivanja                     53.72\n",
       "Naivni Bajes                           62.06\n",
       "KNN                                    52.17\n",
       "Log regresija                          61.39\n",
       "Glasanje meko                          60.86\n",
       "Stacking lr                            57.02\n",
       "Random forest                          64.62"
      ]
     },
     "execution_count": 9,
     "metadata": {},
     "output_type": "execute_result"
    }
   ],
   "source": [
    "lista = list()\n",
    "for model in modeli:\n",
    "    score = cross_val_score(model, X_filter_variance_thresh, y, cv=10, scoring='roc_auc')\n",
    "    lista.append(round(np.mean(score)*100, 2))\n",
    "df_rezultati['X_filter_variance_thresh'] = lista\n",
    "    \n",
    "df_rezultati"
   ]
  },
  {
   "cell_type": "code",
   "execution_count": 10,
   "metadata": {},
   "outputs": [
    {
     "data": {
      "text/html": [
       "<div>\n",
       "<style scoped>\n",
       "    .dataframe tbody tr th:only-of-type {\n",
       "        vertical-align: middle;\n",
       "    }\n",
       "\n",
       "    .dataframe tbody tr th {\n",
       "        vertical-align: top;\n",
       "    }\n",
       "\n",
       "    .dataframe thead th {\n",
       "        text-align: right;\n",
       "    }\n",
       "</style>\n",
       "<table border=\"1\" class=\"dataframe\">\n",
       "  <thead>\n",
       "    <tr style=\"text-align: right;\">\n",
       "      <th></th>\n",
       "      <th>X_filter_variance_thresh</th>\n",
       "      <th>X_filter_mutual_info</th>\n",
       "    </tr>\n",
       "    <tr>\n",
       "      <th>Algoritam</th>\n",
       "      <th></th>\n",
       "      <th></th>\n",
       "    </tr>\n",
       "  </thead>\n",
       "  <tbody>\n",
       "    <tr>\n",
       "      <th>Stablo odlučivanja</th>\n",
       "      <td>53.72</td>\n",
       "      <td>54.31</td>\n",
       "    </tr>\n",
       "    <tr>\n",
       "      <th>Naivni Bajes</th>\n",
       "      <td>62.06</td>\n",
       "      <td>62.98</td>\n",
       "    </tr>\n",
       "    <tr>\n",
       "      <th>KNN</th>\n",
       "      <td>52.17</td>\n",
       "      <td>55.39</td>\n",
       "    </tr>\n",
       "    <tr>\n",
       "      <th>Log regresija</th>\n",
       "      <td>61.39</td>\n",
       "      <td>60.81</td>\n",
       "    </tr>\n",
       "    <tr>\n",
       "      <th>Glasanje meko</th>\n",
       "      <td>60.86</td>\n",
       "      <td>60.78</td>\n",
       "    </tr>\n",
       "    <tr>\n",
       "      <th>Stacking lr</th>\n",
       "      <td>57.02</td>\n",
       "      <td>55.06</td>\n",
       "    </tr>\n",
       "    <tr>\n",
       "      <th>Random forest</th>\n",
       "      <td>64.62</td>\n",
       "      <td>62.83</td>\n",
       "    </tr>\n",
       "  </tbody>\n",
       "</table>\n",
       "</div>"
      ],
      "text/plain": [
       "                    X_filter_variance_thresh  X_filter_mutual_info\n",
       "Algoritam                                                         \n",
       "Stablo odlučivanja                     53.72                 54.31\n",
       "Naivni Bajes                           62.06                 62.98\n",
       "KNN                                    52.17                 55.39\n",
       "Log regresija                          61.39                 60.81\n",
       "Glasanje meko                          60.86                 60.78\n",
       "Stacking lr                            57.02                 55.06\n",
       "Random forest                          64.62                 62.83"
      ]
     },
     "execution_count": 10,
     "metadata": {},
     "output_type": "execute_result"
    }
   ],
   "source": [
    "lista = list()\n",
    "for model in modeli:\n",
    "    score = cross_val_score(model, X_filter_mutual_info, y, cv=10, scoring='roc_auc')\n",
    "    lista.append(round(np.mean(score)*100, 2))\n",
    "df_rezultati['X_filter_mutual_info'] = lista\n",
    "    \n",
    "df_rezultati"
   ]
  },
  {
   "cell_type": "code",
   "execution_count": 11,
   "metadata": {
    "scrolled": false
   },
   "outputs": [
    {
     "data": {
      "text/html": [
       "<div>\n",
       "<style scoped>\n",
       "    .dataframe tbody tr th:only-of-type {\n",
       "        vertical-align: middle;\n",
       "    }\n",
       "\n",
       "    .dataframe tbody tr th {\n",
       "        vertical-align: top;\n",
       "    }\n",
       "\n",
       "    .dataframe thead th {\n",
       "        text-align: right;\n",
       "    }\n",
       "</style>\n",
       "<table border=\"1\" class=\"dataframe\">\n",
       "  <thead>\n",
       "    <tr style=\"text-align: right;\">\n",
       "      <th></th>\n",
       "      <th>X_filter_variance_thresh</th>\n",
       "      <th>X_filter_mutual_info</th>\n",
       "      <th>X_rfecv</th>\n",
       "    </tr>\n",
       "    <tr>\n",
       "      <th>Algoritam</th>\n",
       "      <th></th>\n",
       "      <th></th>\n",
       "      <th></th>\n",
       "    </tr>\n",
       "  </thead>\n",
       "  <tbody>\n",
       "    <tr>\n",
       "      <th>Stablo odlučivanja</th>\n",
       "      <td>53.72</td>\n",
       "      <td>54.31</td>\n",
       "      <td>54.02</td>\n",
       "    </tr>\n",
       "    <tr>\n",
       "      <th>Naivni Bajes</th>\n",
       "      <td>62.06</td>\n",
       "      <td>62.98</td>\n",
       "      <td>63.15</td>\n",
       "    </tr>\n",
       "    <tr>\n",
       "      <th>KNN</th>\n",
       "      <td>52.17</td>\n",
       "      <td>55.39</td>\n",
       "      <td>54.79</td>\n",
       "    </tr>\n",
       "    <tr>\n",
       "      <th>Log regresija</th>\n",
       "      <td>61.39</td>\n",
       "      <td>60.81</td>\n",
       "      <td>62.20</td>\n",
       "    </tr>\n",
       "    <tr>\n",
       "      <th>Glasanje meko</th>\n",
       "      <td>60.86</td>\n",
       "      <td>60.78</td>\n",
       "      <td>62.86</td>\n",
       "    </tr>\n",
       "    <tr>\n",
       "      <th>Stacking lr</th>\n",
       "      <td>57.02</td>\n",
       "      <td>55.06</td>\n",
       "      <td>57.58</td>\n",
       "    </tr>\n",
       "    <tr>\n",
       "      <th>Random forest</th>\n",
       "      <td>64.62</td>\n",
       "      <td>62.83</td>\n",
       "      <td>65.11</td>\n",
       "    </tr>\n",
       "  </tbody>\n",
       "</table>\n",
       "</div>"
      ],
      "text/plain": [
       "                    X_filter_variance_thresh  X_filter_mutual_info  X_rfecv\n",
       "Algoritam                                                                  \n",
       "Stablo odlučivanja                     53.72                 54.31    54.02\n",
       "Naivni Bajes                           62.06                 62.98    63.15\n",
       "KNN                                    52.17                 55.39    54.79\n",
       "Log regresija                          61.39                 60.81    62.20\n",
       "Glasanje meko                          60.86                 60.78    62.86\n",
       "Stacking lr                            57.02                 55.06    57.58\n",
       "Random forest                          64.62                 62.83    65.11"
      ]
     },
     "execution_count": 11,
     "metadata": {},
     "output_type": "execute_result"
    }
   ],
   "source": [
    "lista = list()\n",
    "for model in modeli:\n",
    "    score = cross_val_score(model, X_rfecv, y, cv=10, scoring='roc_auc')\n",
    "    lista.append(round(np.mean(score)*100, 2))\n",
    "df_rezultati['X_rfecv'] = lista\n",
    "    \n",
    "df_rezultati"
   ]
  },
  {
   "cell_type": "markdown",
   "metadata": {},
   "source": [
    "U nastavku ćemo raditi samo sa X_rfecv podacima jer daju najbolje rezultate klasifikacije."
   ]
  },
  {
   "cell_type": "code",
   "execution_count": 12,
   "metadata": {},
   "outputs": [],
   "source": [
    "X = X_rfecv"
   ]
  },
  {
   "cell_type": "markdown",
   "metadata": {},
   "source": [
    "## Optimizacija hiperparametara"
   ]
  },
  {
   "cell_type": "markdown",
   "metadata": {},
   "source": [
    "U narednom delu ćemo isprobavati različite parametre nekih modela."
   ]
  },
  {
   "cell_type": "markdown",
   "metadata": {},
   "source": [
    "### K najbližih suseda"
   ]
  },
  {
   "cell_type": "code",
   "execution_count": 21,
   "metadata": {},
   "outputs": [
    {
     "name": "stdout",
     "output_type": "stream",
     "text": [
      "Best param:  {'n_neighbors': 475}\n"
     ]
    }
   ],
   "source": [
    "#vrednosti parametara koje treba probati\n",
    "#knn_params = {'n_neighbors': [1,2,3,4,5,6,7,8,9,10,12,50,100]} \n",
    "#knn_params = {'n_neighbors': [100,200,300,400,500,600,700]}\n",
    "knn_params = {'n_neighbors': [450, 475, 500,525, 550]}\n",
    "grid_knn_opt = GridSearchCV(model_knn, knn_params, cv=10, scoring='roc_auc')\n",
    "    \n",
    "grid_knn_opt.fit(X,y)\n",
    "print('Best param: ', grid_knn_opt.best_params_)"
   ]
  },
  {
   "cell_type": "markdown",
   "metadata": {},
   "source": [
    "Optimalan broj suseda je 475."
   ]
  },
  {
   "cell_type": "markdown",
   "metadata": {},
   "source": [
    "### Logistička regresija"
   ]
  },
  {
   "cell_type": "code",
   "execution_count": 22,
   "metadata": {},
   "outputs": [
    {
     "name": "stdout",
     "output_type": "stream",
     "text": [
      "Best param:  {'C': 1.5578947368421052}\n"
     ]
    }
   ],
   "source": [
    "#logistic_params = {'C':np.linspace(start=0.001, stop=10, num=21)}\n",
    "#logistic_params = {'C':np.linspace(start=1, stop=1.5, num=20)}\n",
    "#logistic_params = {'C':np.linspace(start=1, stop=3, num=30)}\n",
    "logistic_params = {'C':np.linspace(start=1.4, stop=2, num=20)}\n",
    "grid_lr_opt = GridSearchCV(model_lr, logistic_params, cv=10, scoring='roc_auc')\n",
    "grid_lr_opt.fit(X,y)\n",
    "\n",
    "print('Best param: ', grid_lr_opt.best_params_)"
   ]
  },
  {
   "cell_type": "markdown",
   "metadata": {},
   "source": [
    "Optimalna vrednost parametra C je 1.55"
   ]
  },
  {
   "cell_type": "markdown",
   "metadata": {},
   "source": [
    "### Stablo odlučivanja"
   ]
  },
  {
   "cell_type": "code",
   "execution_count": 20,
   "metadata": {},
   "outputs": [
    {
     "name": "stdout",
     "output_type": "stream",
     "text": [
      "Best param:  {'max_depth': 6.0}\n"
     ]
    }
   ],
   "source": [
    "max_depths = {'max_depth': np.linspace(3, 10, 8, endpoint=True)}\n",
    "grid_dt_opt = GridSearchCV(model_dt, max_depths, cv=10, scoring='roc_auc')\n",
    "grid_dt_opt.fit(X,y)\n",
    "\n",
    "print('Best param: ', grid_dt_opt.best_params_)"
   ]
  },
  {
   "cell_type": "markdown",
   "metadata": {},
   "source": [
    "Optimalna dubina stabla je 6."
   ]
  },
  {
   "cell_type": "markdown",
   "metadata": {},
   "source": [
    "### Random forest"
   ]
  },
  {
   "cell_type": "code",
   "execution_count": 17,
   "metadata": {
    "scrolled": true
   },
   "outputs": [
    {
     "name": "stdout",
     "output_type": "stream",
     "text": [
      "Best param:  {'max_depth': 22, 'max_features': 8, 'min_samples_leaf': 3}\n"
     ]
    }
   ],
   "source": [
    "#forest2 = RandomForestClassifier(n_estimators=10, n_jobs=None, random_state=42, class_weight='balanced')\n",
    "parameters = {'max_features': [8,10,12], 'min_samples_leaf': [1,2,3],'max_depth': [22, 25, 28]}\n",
    "#parameters = {'max_features': [10, 15, 20], 'min_samples_leaf': [1,2,3],'max_depth': [35, 45, 55]}\n",
    "grid_forest_opt = GridSearchCV(model_rf, parameters, cv=5, scoring='accuracy')\n",
    "grid_forest_opt.fit(X,y)\n",
    "\n",
    "print('Best param: ', grid_forest_opt.best_params_)"
   ]
  },
  {
   "cell_type": "markdown",
   "metadata": {},
   "source": [
    "Optimalan minimalan broj uzoraka potrebnih za razdvajanje čvora je 1, dok je maksimalna dubina 25 i maksimalan broj atributa 10."
   ]
  },
  {
   "cell_type": "code",
   "execution_count": 18,
   "metadata": {
    "scrolled": false
   },
   "outputs": [
    {
     "data": {
      "text/html": [
       "<div>\n",
       "<style scoped>\n",
       "    .dataframe tbody tr th:only-of-type {\n",
       "        vertical-align: middle;\n",
       "    }\n",
       "\n",
       "    .dataframe tbody tr th {\n",
       "        vertical-align: top;\n",
       "    }\n",
       "\n",
       "    .dataframe thead th {\n",
       "        text-align: right;\n",
       "    }\n",
       "</style>\n",
       "<table border=\"1\" class=\"dataframe\">\n",
       "  <thead>\n",
       "    <tr style=\"text-align: right;\">\n",
       "      <th></th>\n",
       "      <th>X_rfecv</th>\n",
       "    </tr>\n",
       "    <tr>\n",
       "      <th>Algoritam</th>\n",
       "      <th></th>\n",
       "    </tr>\n",
       "  </thead>\n",
       "  <tbody>\n",
       "    <tr>\n",
       "      <th>Stablo odlučivanja</th>\n",
       "      <td>54.02</td>\n",
       "    </tr>\n",
       "    <tr>\n",
       "      <th>KNN</th>\n",
       "      <td>54.79</td>\n",
       "    </tr>\n",
       "    <tr>\n",
       "      <th>Log regresija</th>\n",
       "      <td>62.20</td>\n",
       "    </tr>\n",
       "    <tr>\n",
       "      <th>Random forest</th>\n",
       "      <td>65.11</td>\n",
       "    </tr>\n",
       "  </tbody>\n",
       "</table>\n",
       "</div>"
      ],
      "text/plain": [
       "                    X_rfecv\n",
       "Algoritam                  \n",
       "Stablo odlučivanja    54.02\n",
       "KNN                   54.79\n",
       "Log regresija         62.20\n",
       "Random forest         65.11"
      ]
     },
     "execution_count": 18,
     "metadata": {},
     "output_type": "execute_result"
    }
   ],
   "source": [
    "df_optimizovano = df_rezultati.iloc[[0,2,3,6], [2]]\n",
    "df_optimizovano"
   ]
  },
  {
   "cell_type": "code",
   "execution_count": 24,
   "metadata": {},
   "outputs": [],
   "source": [
    "lista_posle_optimizacije = list()\n",
    "for model in [grid_dt_opt, grid_knn_opt, grid_lr_opt, grid_forest_opt]:\n",
    "    scores = cross_val_score(model, X, y, cv=10, scoring='roc_auc')\n",
    "    lista_posle_optimizacije.append(round(np.mean(scores)*100, 2))\n",
    "\n",
    "df_optimizovano[\"posle optimizacije\"] = lista_posle_optimizacije"
   ]
  },
  {
   "cell_type": "code",
   "execution_count": 25,
   "metadata": {},
   "outputs": [
    {
     "data": {
      "text/html": [
       "<div>\n",
       "<style scoped>\n",
       "    .dataframe tbody tr th:only-of-type {\n",
       "        vertical-align: middle;\n",
       "    }\n",
       "\n",
       "    .dataframe tbody tr th {\n",
       "        vertical-align: top;\n",
       "    }\n",
       "\n",
       "    .dataframe thead th {\n",
       "        text-align: right;\n",
       "    }\n",
       "</style>\n",
       "<table border=\"1\" class=\"dataframe\">\n",
       "  <thead>\n",
       "    <tr style=\"text-align: right;\">\n",
       "      <th></th>\n",
       "      <th>pre optimizacije</th>\n",
       "      <th>posle optimizacije</th>\n",
       "    </tr>\n",
       "    <tr>\n",
       "      <th>Algoritam</th>\n",
       "      <th></th>\n",
       "      <th></th>\n",
       "    </tr>\n",
       "  </thead>\n",
       "  <tbody>\n",
       "    <tr>\n",
       "      <th>Stablo odlučivanja</th>\n",
       "      <td>54.02</td>\n",
       "      <td>62.89</td>\n",
       "    </tr>\n",
       "    <tr>\n",
       "      <th>KNN</th>\n",
       "      <td>54.79</td>\n",
       "      <td>60.96</td>\n",
       "    </tr>\n",
       "    <tr>\n",
       "      <th>Log regresija</th>\n",
       "      <td>62.20</td>\n",
       "      <td>62.28</td>\n",
       "    </tr>\n",
       "    <tr>\n",
       "      <th>Random forest</th>\n",
       "      <td>65.11</td>\n",
       "      <td>66.26</td>\n",
       "    </tr>\n",
       "  </tbody>\n",
       "</table>\n",
       "</div>"
      ],
      "text/plain": [
       "                    pre optimizacije  posle optimizacije\n",
       "Algoritam                                               \n",
       "Stablo odlučivanja             54.02               62.89\n",
       "KNN                            54.79               60.96\n",
       "Log regresija                  62.20               62.28\n",
       "Random forest                  65.11               66.26"
      ]
     },
     "execution_count": 25,
     "metadata": {},
     "output_type": "execute_result"
    }
   ],
   "source": [
    "df_optimizovano.columns = ['pre optimizacije', 'posle optimizacije']\n",
    "df_optimizovano"
   ]
  },
  {
   "cell_type": "markdown",
   "metadata": {},
   "source": [
    "Nakon optimizacije hiperparametara uviđamo napredak u AUC oceni naših modela."
   ]
  },
  {
   "cell_type": "code",
   "execution_count": null,
   "metadata": {},
   "outputs": [],
   "source": []
  },
  {
   "cell_type": "code",
   "execution_count": null,
   "metadata": {},
   "outputs": [],
   "source": []
  }
 ],
 "metadata": {
  "kernelspec": {
   "display_name": "Python 3",
   "language": "python",
   "name": "python3"
  },
  "language_info": {
   "codemirror_mode": {
    "name": "ipython",
    "version": 3
   },
   "file_extension": ".py",
   "mimetype": "text/x-python",
   "name": "python",
   "nbconvert_exporter": "python",
   "pygments_lexer": "ipython3",
   "version": "3.8.8"
  }
 },
 "nbformat": 4,
 "nbformat_minor": 4
}
